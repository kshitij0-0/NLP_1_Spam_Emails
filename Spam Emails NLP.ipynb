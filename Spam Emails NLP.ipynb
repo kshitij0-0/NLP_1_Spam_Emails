{
 "cells": [
  {
   "cell_type": "markdown",
   "id": "8c41f1c8",
   "metadata": {},
   "source": [
    "# 1.Importing PreReq"
   ]
  },
  {
   "cell_type": "code",
   "execution_count": 65,
   "id": "06a57c63",
   "metadata": {},
   "outputs": [],
   "source": [
    "import numpy as np\n",
    "import pandas as pd\n",
    "from sklearn.model_selection import train_test_split\n",
    "import tensorflow as tf\n",
    "from sklearn.metrics import r2_score"
   ]
  },
  {
   "cell_type": "markdown",
   "id": "c0ae55de",
   "metadata": {},
   "source": [
    "# 2.Reading Data"
   ]
  },
  {
   "cell_type": "code",
   "execution_count": 35,
   "id": "0fe58bf9",
   "metadata": {},
   "outputs": [],
   "source": [
    "data=pd.read_csv(\"Spam Email raw text for NLP.csv\")"
   ]
  },
  {
   "cell_type": "code",
   "execution_count": 36,
   "id": "de6d1a29",
   "metadata": {},
   "outputs": [
    {
     "data": {
      "text/html": [
       "<div>\n",
       "<style scoped>\n",
       "    .dataframe tbody tr th:only-of-type {\n",
       "        vertical-align: middle;\n",
       "    }\n",
       "\n",
       "    .dataframe tbody tr th {\n",
       "        vertical-align: top;\n",
       "    }\n",
       "\n",
       "    .dataframe thead th {\n",
       "        text-align: right;\n",
       "    }\n",
       "</style>\n",
       "<table border=\"1\" class=\"dataframe\">\n",
       "  <thead>\n",
       "    <tr style=\"text-align: right;\">\n",
       "      <th></th>\n",
       "      <th>CATEGORY</th>\n",
       "      <th>MESSAGE</th>\n",
       "      <th>FILE_NAME</th>\n",
       "    </tr>\n",
       "  </thead>\n",
       "  <tbody>\n",
       "    <tr>\n",
       "      <th>0</th>\n",
       "      <td>1</td>\n",
       "      <td>Dear Homeowner,\\n\\n \\n\\nInterest Rates are at ...</td>\n",
       "      <td>00249.5f45607c1bffe89f60ba1ec9f878039a</td>\n",
       "    </tr>\n",
       "    <tr>\n",
       "      <th>1</th>\n",
       "      <td>1</td>\n",
       "      <td>ATTENTION: This is a MUST for ALL Computer Use...</td>\n",
       "      <td>00373.ebe8670ac56b04125c25100a36ab0510</td>\n",
       "    </tr>\n",
       "    <tr>\n",
       "      <th>2</th>\n",
       "      <td>1</td>\n",
       "      <td>This is a multi-part message in MIME format.\\n...</td>\n",
       "      <td>00214.1367039e50dc6b7adb0f2aa8aba83216</td>\n",
       "    </tr>\n",
       "    <tr>\n",
       "      <th>3</th>\n",
       "      <td>1</td>\n",
       "      <td>IMPORTANT INFORMATION:\\n\\n\\n\\nThe new domain n...</td>\n",
       "      <td>00210.050ffd105bd4e006771ee63cabc59978</td>\n",
       "    </tr>\n",
       "    <tr>\n",
       "      <th>4</th>\n",
       "      <td>1</td>\n",
       "      <td>This is the bottom line.  If you can GIVE AWAY...</td>\n",
       "      <td>00033.9babb58d9298daa2963d4f514193d7d6</td>\n",
       "    </tr>\n",
       "    <tr>\n",
       "      <th>...</th>\n",
       "      <td>...</td>\n",
       "      <td>...</td>\n",
       "      <td>...</td>\n",
       "    </tr>\n",
       "    <tr>\n",
       "      <th>5791</th>\n",
       "      <td>0</td>\n",
       "      <td>I'm one of the 30,000 but it's not working ver...</td>\n",
       "      <td>00609.dd49926ce94a1ea328cce9b62825bc97</td>\n",
       "    </tr>\n",
       "    <tr>\n",
       "      <th>5792</th>\n",
       "      <td>0</td>\n",
       "      <td>Damien Morton quoted:\\n\\n&gt;W3C approves HTML 4 ...</td>\n",
       "      <td>00957.e0b56b117f3ec5f85e432a9d2a47801f</td>\n",
       "    </tr>\n",
       "    <tr>\n",
       "      <th>5793</th>\n",
       "      <td>0</td>\n",
       "      <td>On Mon, 2002-07-22 at 06:50, che wrote:\\n\\n\\n\\...</td>\n",
       "      <td>01127.841233b48eceb74a825417d8d918abf8</td>\n",
       "    </tr>\n",
       "    <tr>\n",
       "      <th>5794</th>\n",
       "      <td>0</td>\n",
       "      <td>Once upon a time, Manfred wrote :\\n\\n\\n\\n&gt; I w...</td>\n",
       "      <td>01178.5c977dff972cd6eef64d4173b90307f0</td>\n",
       "    </tr>\n",
       "    <tr>\n",
       "      <th>5795</th>\n",
       "      <td>0</td>\n",
       "      <td>If you run Pick, and then use the \"New FTOC\" b...</td>\n",
       "      <td>00747.352d424267d36975a7b40b85ffd0885e</td>\n",
       "    </tr>\n",
       "  </tbody>\n",
       "</table>\n",
       "<p>5796 rows × 3 columns</p>\n",
       "</div>"
      ],
      "text/plain": [
       "      CATEGORY                                            MESSAGE  \\\n",
       "0            1  Dear Homeowner,\\n\\n \\n\\nInterest Rates are at ...   \n",
       "1            1  ATTENTION: This is a MUST for ALL Computer Use...   \n",
       "2            1  This is a multi-part message in MIME format.\\n...   \n",
       "3            1  IMPORTANT INFORMATION:\\n\\n\\n\\nThe new domain n...   \n",
       "4            1  This is the bottom line.  If you can GIVE AWAY...   \n",
       "...        ...                                                ...   \n",
       "5791         0  I'm one of the 30,000 but it's not working ver...   \n",
       "5792         0  Damien Morton quoted:\\n\\n>W3C approves HTML 4 ...   \n",
       "5793         0  On Mon, 2002-07-22 at 06:50, che wrote:\\n\\n\\n\\...   \n",
       "5794         0  Once upon a time, Manfred wrote :\\n\\n\\n\\n> I w...   \n",
       "5795         0  If you run Pick, and then use the \"New FTOC\" b...   \n",
       "\n",
       "                                   FILE_NAME  \n",
       "0     00249.5f45607c1bffe89f60ba1ec9f878039a  \n",
       "1     00373.ebe8670ac56b04125c25100a36ab0510  \n",
       "2     00214.1367039e50dc6b7adb0f2aa8aba83216  \n",
       "3     00210.050ffd105bd4e006771ee63cabc59978  \n",
       "4     00033.9babb58d9298daa2963d4f514193d7d6  \n",
       "...                                      ...  \n",
       "5791  00609.dd49926ce94a1ea328cce9b62825bc97  \n",
       "5792  00957.e0b56b117f3ec5f85e432a9d2a47801f  \n",
       "5793  01127.841233b48eceb74a825417d8d918abf8  \n",
       "5794  01178.5c977dff972cd6eef64d4173b90307f0  \n",
       "5795  00747.352d424267d36975a7b40b85ffd0885e  \n",
       "\n",
       "[5796 rows x 3 columns]"
      ]
     },
     "execution_count": 36,
     "metadata": {},
     "output_type": "execute_result"
    }
   ],
   "source": [
    "data"
   ]
  },
  {
   "cell_type": "code",
   "execution_count": 37,
   "id": "6106c2e5",
   "metadata": {},
   "outputs": [
    {
     "name": "stdout",
     "output_type": "stream",
     "text": [
      "<class 'pandas.core.frame.DataFrame'>\n",
      "RangeIndex: 5796 entries, 0 to 5795\n",
      "Data columns (total 3 columns):\n",
      " #   Column     Non-Null Count  Dtype \n",
      "---  ------     --------------  ----- \n",
      " 0   CATEGORY   5796 non-null   int64 \n",
      " 1   MESSAGE    5796 non-null   object\n",
      " 2   FILE_NAME  5796 non-null   object\n",
      "dtypes: int64(1), object(2)\n",
      "memory usage: 136.0+ KB\n"
     ]
    }
   ],
   "source": [
    "data.info() #checking information iof the data"
   ]
  },
  {
   "cell_type": "code",
   "execution_count": 38,
   "id": "da1b2331",
   "metadata": {},
   "outputs": [
    {
     "data": {
      "text/plain": [
       "CATEGORY     0\n",
       "MESSAGE      0\n",
       "FILE_NAME    0\n",
       "dtype: int64"
      ]
     },
     "execution_count": 38,
     "metadata": {},
     "output_type": "execute_result"
    }
   ],
   "source": [
    "data.isnull().sum()  #looking for null values in data"
   ]
  },
  {
   "cell_type": "markdown",
   "id": "bd322031",
   "metadata": {},
   "source": [
    "# 3.PrePrecossing"
   ]
  },
  {
   "cell_type": "code",
   "execution_count": 39,
   "id": "e91be1b4",
   "metadata": {},
   "outputs": [],
   "source": [
    "def get_sequences(texts, tokenizer, train=True, max_seq_length=None):\n",
    "    \n",
    "    # removes punctuation, other non requires words and applies mapping on word count\n",
    "    sequences = tokenizer.texts_to_sequences(texts)      \n",
    "    \n",
    "    if train == True:\n",
    "        \n",
    "        # finding longest TE in the training set\n",
    "        max_seq_length = np.max(list(map(lambda x: len(x), sequences)))  \n",
    "    \n",
    "    sequences = tf.keras.preprocessing.sequence.pad_sequences(sequences, maxlen=max_seq_length, padding='post')\n",
    "    \n",
    "    return sequences"
   ]
  },
  {
   "cell_type": "code",
   "execution_count": 40,
   "id": "5c4ec657",
   "metadata": {},
   "outputs": [],
   "source": [
    "def preprocess_inputs(df):\n",
    "    df = df.copy()\n",
    "    \n",
    "    # Drop FILE_NAME column\n",
    "    df = df.drop('FILE_NAME', axis=1)\n",
    "    \n",
    "    # Split df into X and y\n",
    "    y = df['CATEGORY']\n",
    "    X = df['MESSAGE']\n",
    "    \n",
    "    # Train-test splitting of data\n",
    "    X_train, X_test, y_train, y_test = train_test_split(X, y, train_size=0.7, shuffle=True, random_state=1)\n",
    "    \n",
    "    # Creating tokenizer for every word\n",
    "    tokenizer = tf.keras.preprocessing.text.Tokenizer(num_words=30000)\n",
    "    \n",
    "    # Fit the tokenizer\n",
    "    tokenizer.fit_on_texts(X_train)\n",
    "    \n",
    "    # Convert texts to sequences\n",
    "    X_train = get_sequences(X_train, tokenizer, train=True)\n",
    "    X_test = get_sequences(X_test, tokenizer, train=False, max_seq_length=X_train.shape[1])\n",
    "    \n",
    "    return X_train, X_test, y_train, y_test"
   ]
  },
  {
   "cell_type": "code",
   "execution_count": 41,
   "id": "a76197d7",
   "metadata": {},
   "outputs": [],
   "source": [
    "X_train, X_test, y_train, y_test = preprocess_inputs(data)"
   ]
  },
  {
   "cell_type": "code",
   "execution_count": 42,
   "id": "8cc54c05",
   "metadata": {},
   "outputs": [
    {
     "data": {
      "text/plain": [
       "array([[   14,   135,   188, ...,     0,     0,     0],\n",
       "       [  183,  1452,  2119, ...,     0,     0,     0],\n",
       "       [   56,   129,    20, ...,     0,     0,     0],\n",
       "       ...,\n",
       "       [  309,    12,    32, ...,     0,     0,     0],\n",
       "       [   56,   179,   298, ...,     0,     0,     0],\n",
       "       [   94,  4671, 11648, ...,     0,     0,     0]])"
      ]
     },
     "execution_count": 42,
     "metadata": {},
     "output_type": "execute_result"
    }
   ],
   "source": [
    "X_train"
   ]
  },
  {
   "cell_type": "code",
   "execution_count": 43,
   "id": "42b21f8c",
   "metadata": {},
   "outputs": [
    {
     "data": {
      "text/plain": [
       "0    2738\n",
       "1    1319\n",
       "Name: CATEGORY, dtype: int64"
      ]
     },
     "execution_count": 43,
     "metadata": {},
     "output_type": "execute_result"
    }
   ],
   "source": [
    "y_train.value_counts()"
   ]
  },
  {
   "cell_type": "code",
   "execution_count": 44,
   "id": "1c4a66c7",
   "metadata": {},
   "outputs": [
    {
     "data": {
      "text/plain": [
       "(4057, 14804)"
      ]
     },
     "execution_count": 44,
     "metadata": {},
     "output_type": "execute_result"
    }
   ],
   "source": [
    "X_train.shape"
   ]
  },
  {
   "cell_type": "markdown",
   "id": "2cb81d27",
   "metadata": {},
   "source": [
    "# Training"
   ]
  },
  {
   "cell_type": "code",
   "execution_count": 57,
   "id": "62967410",
   "metadata": {},
   "outputs": [
    {
     "name": "stdout",
     "output_type": "stream",
     "text": [
      "Model: \"model_4\"\n",
      "_________________________________________________________________\n",
      "Layer (type)                 Output Shape              Param #   \n",
      "=================================================================\n",
      "input_5 (InputLayer)         [(None, 14804)]           0         \n",
      "_________________________________________________________________\n",
      "embedding_4 (Embedding)      (None, 14804, 64)         1920000   \n",
      "_________________________________________________________________\n",
      "flatten_4 (Flatten)          (None, 947456)            0         \n",
      "_________________________________________________________________\n",
      "dense_4 (Dense)              (None, 1)                 947457    \n",
      "=================================================================\n",
      "Total params: 2,867,457\n",
      "Trainable params: 2,867,457\n",
      "Non-trainable params: 0\n",
      "_________________________________________________________________\n",
      "None\n"
     ]
    }
   ],
   "source": [
    "inputs = tf.keras.Input(shape=(14804,))\n",
    "\n",
    "# Embedding the Te's from the Training set\n",
    "embedding = tf.keras.layers.Embedding(input_dim=30000,output_dim=64)(inputs)\n",
    "\n",
    "# Converting into 1D vector\n",
    "flatten = tf.keras.layers.Flatten()(embedding)\n",
    "\n",
    "# Adding the Dense Layer\n",
    "outputs = tf.keras.layers.Dense(1, activation='sigmoid')(flatten)\n",
    "\n",
    "\n",
    "model = tf.keras.Model(inputs=inputs, outputs=outputs)\n",
    "\n",
    "# Compiling the Model\n",
    "model.compile(\n",
    "    optimizer='adam',\n",
    "    loss='binary_crossentropy',\n",
    "    metrics=['accuracy']\n",
    ")\n",
    "\n",
    "\n",
    "print(model.summary())"
   ]
  },
  {
   "cell_type": "code",
   "execution_count": 58,
   "id": "2adf879b",
   "metadata": {},
   "outputs": [
    {
     "name": "stdout",
     "output_type": "stream",
     "text": [
      "Epoch 1/10\n",
      "102/102 [==============================] - 13s 123ms/step - loss: 1.5560 - accuracy: 0.6739 - val_loss: 0.1102 - val_accuracy: 0.9803\n",
      "Epoch 2/10\n",
      "102/102 [==============================] - 12s 121ms/step - loss: 0.0645 - accuracy: 0.9846 - val_loss: 0.0418 - val_accuracy: 0.9877\n",
      "Epoch 3/10\n",
      "102/102 [==============================] - 12s 121ms/step - loss: 0.0160 - accuracy: 0.9987 - val_loss: 0.0348 - val_accuracy: 0.9877\n",
      "Epoch 4/10\n",
      "102/102 [==============================] - 12s 120ms/step - loss: 0.0084 - accuracy: 0.9986 - val_loss: 0.0323 - val_accuracy: 0.9889\n",
      "Epoch 5/10\n",
      "102/102 [==============================] - 13s 123ms/step - loss: 0.0045 - accuracy: 0.9995 - val_loss: 0.0316 - val_accuracy: 0.9901\n",
      "Epoch 6/10\n",
      "102/102 [==============================] - 12s 120ms/step - loss: 0.0037 - accuracy: 0.9989 - val_loss: 0.0333 - val_accuracy: 0.9889\n",
      "Epoch 7/10\n",
      "102/102 [==============================] - 12s 121ms/step - loss: 0.0024 - accuracy: 0.9997 - val_loss: 0.0321 - val_accuracy: 0.9901\n",
      "Epoch 8/10\n",
      "102/102 [==============================] - 13s 123ms/step - loss: 0.0018 - accuracy: 0.9996 - val_loss: 0.0323 - val_accuracy: 0.9889\n"
     ]
    }
   ],
   "source": [
    "# Fiting the TE's and Training the model\n",
    "# Epochs can be altered\n",
    "history = model.fit(\n",
    "    X_train,\n",
    "    y_train,\n",
    "    validation_split=0.2,\n",
    "    batch_size=32,\n",
    "    epochs=10,\n",
    "    callbacks=[\n",
    "        tf.keras.callbacks.EarlyStopping(\n",
    "            monitor='val_loss',\n",
    "            patience=3,\n",
    "            restore_best_weights=True\n",
    "        )\n",
    "    ]\n",
    ")"
   ]
  },
  {
   "cell_type": "code",
   "execution_count": 59,
   "id": "7998f8ef",
   "metadata": {
    "scrolled": true
   },
   "outputs": [
    {
     "data": {
      "text/plain": [
       "<tensorflow.python.keras.callbacks.History at 0x2579d973ca0>"
      ]
     },
     "execution_count": 59,
     "metadata": {},
     "output_type": "execute_result"
    }
   ],
   "source": [
    "history"
   ]
  },
  {
   "cell_type": "markdown",
   "id": "fe1ba5ec",
   "metadata": {},
   "source": [
    "# Results"
   ]
  },
  {
   "cell_type": "code",
   "execution_count": 62,
   "id": "af96cd53",
   "metadata": {
    "scrolled": true
   },
   "outputs": [
    {
     "name": "stdout",
     "output_type": "stream",
     "text": [
      "    Test Loss: 0.0245\n",
      "Test Accuracy: 99.08%\n"
     ]
    }
   ],
   "source": [
    "results = model.evaluate(X_test, y_test, verbose=0)\n",
    "\n",
    "print(\"    Test Loss: {:.4f}\".format(results[0]))\n",
    "print(\"Test Accuracy: {:.2f}%\".format(results[1] * 100))"
   ]
  },
  {
   "cell_type": "code",
   "execution_count": 66,
   "id": "7a75b1dc",
   "metadata": {},
   "outputs": [
    {
     "data": {
      "text/plain": [
       "0.9713762321319751"
      ]
     },
     "execution_count": 66,
     "metadata": {},
     "output_type": "execute_result"
    }
   ],
   "source": [
    "# Calculating r2 score \n",
    "r2 = r2_score(y_test, model.predict(X_test))\n",
    "r2"
   ]
  },
  {
   "cell_type": "code",
   "execution_count": null,
   "id": "38cf87c8",
   "metadata": {},
   "outputs": [],
   "source": []
  }
 ],
 "metadata": {
  "kernelspec": {
   "display_name": "Python 3",
   "language": "python",
   "name": "python3"
  },
  "language_info": {
   "codemirror_mode": {
    "name": "ipython",
    "version": 3
   },
   "file_extension": ".py",
   "mimetype": "text/x-python",
   "name": "python",
   "nbconvert_exporter": "python",
   "pygments_lexer": "ipython3",
   "version": "3.8.8"
  }
 },
 "nbformat": 4,
 "nbformat_minor": 5
}
